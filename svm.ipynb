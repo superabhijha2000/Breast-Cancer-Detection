{
 "cells": [
  {
   "cell_type": "code",
   "execution_count": 1,
   "metadata": {},
   "outputs": [],
   "source": [
    "import numpy as np\n",
    "import matplotlib.pyplot as plt\n",
    "import pandas as pd\n",
    "\n",
    "\n",
    "from sklearn.svm import SVC\n",
    "from sklearn.metrics import accuracy_score\n",
    "from time import time"
   ]
  },
  {
   "cell_type": "code",
   "execution_count": 2,
   "metadata": {},
   "outputs": [],
   "source": [
    "\n",
    "\n",
    "def train_svm():\n",
    "\n",
    "\t# Importing the dataset\n",
    "\tdataset = pd.read_csv('Breast Cancer Data.csv')\n",
    "\tX = dataset.iloc[:, 2:32].values\n",
    "\ty = dataset.iloc[:, 1].values\n",
    "\n",
    "\t# Encoding categorical data\n",
    "\tfrom sklearn.preprocessing import LabelEncoder, OneHotEncoder\n",
    "\tlabelencoder_X_1 = LabelEncoder()\n",
    "\ty = labelencoder_X_1.fit_transform(y)\n",
    "\n",
    "\t# Splitting the dataset into the Training set and Test set\n",
    "\tglobal X_test, y_test\n",
    "\tfrom sklearn.model_selection import train_test_split\n",
    "\tX_train, X_test, y_train, y_test = train_test_split(X, y, test_size = 0.2, random_state = 0)\n",
    "\n",
    "\n",
    "\t# Feature Scaling\n",
    "\tfrom sklearn.preprocessing import StandardScaler\n",
    "\tglobal sc\n",
    "\tsc = StandardScaler()\n",
    "\tX_train = sc.fit_transform(X_train)\n",
    "\tX_test = sc.transform(X_test)\n",
    "\n",
    "\tclf = SVC(probability=True)\n",
    "\tclf.fit(X_train, y_train)\n",
    "\n",
    "\treturn clf"
   ]
  },
  {
   "cell_type": "code",
   "execution_count": 3,
   "metadata": {},
   "outputs": [],
   "source": [
    "\n",
    "\n",
    "def test_svm(clf):\n",
    "\tt = time()\n",
    "\toutput = clf.predict(X_test)\n",
    "\tacc = accuracy_score(y_test, output) \n",
    "\tprint(\"The accuracy of testing data: \",acc)\n",
    "\tprint(\"The running time: \",time()-t)\n"
   ]
  },
  {
   "cell_type": "code",
   "execution_count": 4,
   "metadata": {},
   "outputs": [],
   "source": [
    "\n",
    "def predict_svm(clf, inp):\n",
    "\tt = time()\n",
    "\tinp = sc.transform(inp)\n",
    "\toutput = clf.predict(inp)\n",
    "\tacc = clf.predict_proba(inp)\n",
    "\tprint(\"The running time: \",time()-t)\n",
    "\n",
    "\treturn output, acc, time()-t;"
   ]
  },
  {
   "cell_type": "code",
   "execution_count": null,
   "metadata": {},
   "outputs": [],
   "source": []
  },
  {
   "cell_type": "code",
   "execution_count": null,
   "metadata": {},
   "outputs": [],
   "source": []
  },
  {
   "cell_type": "code",
   "execution_count": null,
   "metadata": {},
   "outputs": [],
   "source": []
  },
  {
   "cell_type": "code",
   "execution_count": null,
   "metadata": {},
   "outputs": [],
   "source": []
  },
  {
   "cell_type": "code",
   "execution_count": null,
   "metadata": {},
   "outputs": [],
   "source": []
  },
  {
   "cell_type": "code",
   "execution_count": null,
   "metadata": {},
   "outputs": [],
   "source": []
  },
  {
   "cell_type": "code",
   "execution_count": null,
   "metadata": {},
   "outputs": [],
   "source": []
  },
  {
   "cell_type": "code",
   "execution_count": null,
   "metadata": {},
   "outputs": [],
   "source": []
  },
  {
   "cell_type": "code",
   "execution_count": null,
   "metadata": {},
   "outputs": [],
   "source": []
  }
 ],
 "metadata": {
  "kernelspec": {
   "display_name": "Python 3",
   "language": "python",
   "name": "python3"
  },
  "language_info": {
   "codemirror_mode": {
    "name": "ipython",
    "version": 3
   },
   "file_extension": ".py",
   "mimetype": "text/x-python",
   "name": "python",
   "nbconvert_exporter": "python",
   "pygments_lexer": "ipython3",
   "version": "3.7.6"
  }
 },
 "nbformat": 4,
 "nbformat_minor": 2
}
